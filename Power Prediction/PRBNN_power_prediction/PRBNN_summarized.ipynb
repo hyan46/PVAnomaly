{
 "cells": [
  {
   "cell_type": "code",
   "execution_count": 1,
   "metadata": {
    "collapsed": false
   },
   "outputs": [
    {
     "name": "stderr",
     "output_type": "stream",
     "text": [
      "/env/miniconda3/envs/solar/lib/python3.9/site-packages/tqdm/auto.py:22: TqdmWarning: IProgress not found. Please update jupyter and ipywidgets. See https://ipywidgets.readthedocs.io/en/stable/user_install.html\n",
      "  from .autonotebook import tqdm as notebook_tqdm\n"
     ]
    }
   ],
   "source": [
    "import os\n",
    "import pickle\n",
    "import numpy as np\n",
    "import torch\n",
    "import matplotlib.pyplot as plt\n",
    "import sys\n",
    "import glob\n",
    "import torch.nn as nn\n",
    "import torch.nn.functional as F\n",
    "from torch.autograd import Variable\n",
    "import torch.utils.data as Data\n",
    "import torch.optim as optim\n",
    "import pandas as pd\n",
    "\n",
    "import matplotlib\n",
    "from importlib import reload\n",
    "import matplotlib.pyplot as plt\n",
    "from mpl_toolkits.mplot3d import Axes3D\n",
    "import torchbnn as bnn\n",
    "%matplotlib inline\n",
    "from IPython.core.debugger import set_trace\n",
    "np.random.seed(7)\n",
    "import torchbnn"
   ]
  },
  {
   "cell_type": "code",
   "execution_count": 2,
   "metadata": {
    "collapsed": false
   },
   "outputs": [],
   "source": [
    "# import sqlite3"
   ]
  },
  {
   "cell_type": "code",
   "execution_count": 3,
   "metadata": {
    "collapsed": false
   },
   "outputs": [],
   "source": [
    "# df = pd.read_csv('./Data/StreamingData/aps_pi_values_2022-10-22T17_55_03.txt')\n",
    "# tmp = os.path.join(os.getcwd(), 'res', 'aps_pi_values_2022-10-22T17_55_03.txt')\n",
    "# print(tmp)"
   ]
  },
  {
   "cell_type": "markdown",
   "metadata": {
    "collapsed": false
   },
   "source": [
    "# Load data and select variables\n",
    "\n"
   ]
  },
  {
   "cell_type": "code",
   "execution_count": 4,
   "metadata": {
    "collapsed": false
   },
   "outputs": [
    {
     "name": "stdout",
     "output_type": "stream",
     "text": [
      "(12, 731, 96)\n",
      "(70176, 1)\n",
      "(70176, 15)\n"
     ]
    }
   ],
   "source": [
    "solar_tensor_data = pickle.load( open( \"Pacweather_1.pkl\", \"rb\" ) )\n",
    "print(solar_tensor_data.shape)\n",
    "temp=np.swapaxes(solar_tensor_data,0,1)\n",
    "P_W_data=np.swapaxes(temp,1,2)\n",
    "com_P_W_data=np.reshape(P_W_data,(731*96,12))\n",
    "\n",
    "#add some time and date label\n",
    "time_label=torch.ones(70176)\n",
    "for i in range(731):\n",
    "    time_label[96*i:96*(i+1)]=torch.arange(96)\n",
    "\n",
    "time_label=time_label.unsqueeze(1)\n",
    "time_label=time_label.numpy()\n",
    "a=np.arange(365)\n",
    "b=np.arange(366)\n",
    "days=np.concatenate((a,b))\n",
    "n_days=np.repeat(days, 96)\n",
    "\n",
    "day_label=n_days[:, np.newaxis]\n",
    "com_P_W_data=np.concatenate((com_P_W_data,time_label),axis=1)\n",
    "com_P_W_data=np.concatenate((com_P_W_data,day_label),axis=1)\n",
    "#monthly label\n",
    "first=np.arange(12)\n",
    "second=np.arange(12)\n",
    "month=np.concatenate([first,second])\n",
    "temp=month.repeat(30*96)\n",
    "rest=np.zeros(len(com_P_W_data)-len(temp))\n",
    "month_label=np.concatenate([temp,rest])\n",
    "month_label=month_label[:, np.newaxis]\n",
    "print(month_label.shape)\n",
    "\n",
    "com_P_W_data=np.concatenate((com_P_W_data,month_label),axis=1)\n",
    "P_W_data_inverterA=com_P_W_data\n",
    "print(com_P_W_data.shape)\n",
    "P_W_data_inverterA=com_P_W_data[...,[0,1,2,5,7,8,9,10,11,12,13]] #InverterA_power,curtail_utility,curtail_utility,TBOM,Tamb,    WS,ipoa(-3),ipoa2,(-2)IGBT_derate_A,IGBT_off_A,watts,Feeder_indicater,time_label, day_label\n",
    "# P_W_data_inverterA.shapeP_W_data_inverterA.shape\n"
   ]
  },
  {
   "cell_type": "markdown",
   "metadata": {
    "collapsed": false
   },
   "source": [
    "# select summer rows"
   ]
  },
  {
   "cell_type": "code",
   "execution_count": 5,
   "metadata": {
    "collapsed": false
   },
   "outputs": [
    {
     "name": "stdout",
     "output_type": "stream",
     "text": [
      "(29568, 11)\n"
     ]
    }
   ],
   "source": [
    "summer_index=np.where(P_W_data_inverterA[:,-1]<=153)[0]\n",
    "P_W_data_inverterA=P_W_data_inverterA[summer_index,:]\n",
    "print(P_W_data_inverterA.shape)\n"
   ]
  },
  {
   "cell_type": "code",
   "execution_count": 6,
   "metadata": {
    "collapsed": false
   },
   "outputs": [],
   "source": [
    "###modules IGBT temp\n",
    "solar_tensor_data = pickle.load( open( \"Data/solar_tensor.pickle\", \"rb\" ) )\n",
    "\n",
    "module_level_data=solar_tensor_data['module_data_reshaped']\n",
    "igbt_temp=module_level_data[0,:,-1,...]\n",
    "temp_reshape=np.reshape(igbt_temp,(10,731*96))\n",
    "temp_flip=np.flip(temp_reshape,1)\n",
    "temp_summer=temp_flip[:,summer_index]"
   ]
  },
  {
   "cell_type": "code",
   "execution_count": 7,
   "metadata": {
    "collapsed": false
   },
   "outputs": [],
   "source": [
    "###max IGBT temp\n",
    "\n",
    "igbt_max=np.load('know_results/IGBT_Max.npy')\n",
    "igbt=np.reshape(igbt_max[0,...],(731*96))\n",
    "igbt_fliped=np.flip(igbt,0)\n",
    "### select rows for igbt_max\n",
    "igbt_summer=igbt_fliped[summer_index]"
   ]
  },
  {
   "cell_type": "markdown",
   "metadata": {
    "collapsed": false
   },
   "source": [
    "# data normalization and dataloader"
   ]
  },
  {
   "cell_type": "code",
   "execution_count": 8,
   "metadata": {
    "collapsed": false
   },
   "outputs": [
    {
     "name": "stdout",
     "output_type": "stream",
     "text": [
      "(20698, 10) (20698, 1)\n"
     ]
    }
   ],
   "source": [
    "#data preparation\n",
    "lr = 0.001\n",
    "ratio = 0.7\n",
    "valid_ratio=0.08\n",
    "\n",
    "\n",
    "for d in range(P_W_data_inverterA.shape[-1]):\n",
    "    P_W_data_inverterA[..., d] = (P_W_data_inverterA[..., d] - np.min(P_W_data_inverterA[..., d])) / (\n",
    "        np.max(P_W_data_inverterA[..., d]) - np.min(P_W_data_inverterA[..., d])+1e-6)\n",
    "\n",
    "v_index=round(valid_ratio * len(P_W_data_inverterA))\n",
    "traj_valid=P_W_data_inverterA[:v_index,...]\n",
    "train_idx = round(ratio * len(P_W_data_inverterA))\n",
    "traj_train, traj_test = P_W_data_inverterA[v_index:train_idx+v_index, ...], P_W_data_inverterA[train_idx+v_index:, ...]\n",
    "device = \"cuda:0\"\n",
    "batch_size=16\n",
    "igbt_max_summer_test=igbt_summer[train_idx+v_index:]\n",
    "igbt_temp_summer_test=temp_summer[:,train_idx+v_index:]\n",
    "\n",
    "def data_one_step(input):\n",
    "    X=input[...,1:]\n",
    "    Y=input[...,0]\n",
    "    Y=Y[...,np.newaxis]\n",
    "    return X, Y\n",
    "\n",
    "\n",
    "\n",
    "def numpy_to_torch(Xtrain, Ytrain, Xtest, Ytest):\n",
    "    X_train_torch = torch.from_numpy(Xtrain).type(torch.Tensor).to(device)\n",
    "    Y_train_torch = torch.from_numpy(Ytrain).type(torch.Tensor).to(device)\n",
    "\n",
    "    X_test_torch = torch.from_numpy(Xtest).type(torch.Tensor).to(device)\n",
    "    Y_test_torch =torch.from_numpy(Ytest).type(torch.Tensor).to(device)\n",
    "\n",
    "    return X_train_torch, Y_train_torch, X_test_torch, Y_test_torch\n",
    "\n",
    "trainX,trainY=data_one_step(traj_train) \n",
    "testX,testY=data_one_step(traj_test)\n",
    "validX,validY=data_one_step(traj_valid)\n",
    "\n",
    "print(trainX.shape,trainY.shape)        \n",
    "trainX , trainY ,  testX , testY =numpy_to_torch(trainX , trainY ,  testX , testY )\n",
    "\n",
    "# trainY, testY=trainY.unsqueeze(1), testY.unsqueeze(1)\n",
    "from torch.utils.data import DataLoader, TensorDataset\n",
    "trainloader = DataLoader(TensorDataset(trainX, trainY), batch_size=batch_size, shuffle=False)\n",
    "testloader = DataLoader(TensorDataset(testX, testY), batch_size=7000, shuffle=False)\n",
    "trainloader_test = DataLoader(TensorDataset(trainX, trainY), batch_size=batch_size, shuffle=False)"
   ]
  },
  {
   "cell_type": "code",
   "execution_count": 9,
   "metadata": {
    "collapsed": false
   },
   "outputs": [],
   "source": [
    "\n",
    "\n",
    "class BayesianNet(nn.Module):\n",
    "    def __init__(self):            # 4-100-3\n",
    "        super(BayesianNet, self).__init__()\n",
    "        self.hid1 = bnn.BayesLinear(prior_mu=0, prior_sigma=0.01,\n",
    "          in_features=10, out_features=64)\n",
    "        self.hid2 = bnn.BayesLinear(prior_mu=0, prior_sigma=0.02,#0.02\n",
    "          in_features=64, out_features=32)\n",
    "        self.oupt = bnn.BayesLinear(prior_mu=0, prior_sigma=0.01,\n",
    "          in_features=32, out_features=1)\n",
    "\n",
    "\n",
    "    def forward(self, x):\n",
    "        y = F.relu(self.hid1(x))\n",
    "        z = F.relu(self.hid2(y))\n",
    "        z = self.oupt(z) \n",
    "        return z\n",
    "    \n",
    "net = BayesianNet().to(device)\n"
   ]
  },
  {
   "cell_type": "code",
   "execution_count": 17,
   "metadata": {
    "collapsed": false,
    "scrolled": true
   },
   "outputs": [
    {
     "name": "stdout",
     "output_type": "stream",
     "text": [
      "epoch: 0 ; loss:  0.01420783112338904\n"
     ]
    },
    {
     "name": "stdout",
     "output_type": "stream",
     "text": [
      "epoch: 1 ; loss:  0.011640539435259722\n"
     ]
    },
    {
     "name": "stdout",
     "output_type": "stream",
     "text": [
      "epoch: 2 ; loss:  0.005736272411296645\n"
     ]
    },
    {
     "name": "stdout",
     "output_type": "stream",
     "text": [
      "epoch: 3 ; loss:  0.004463628154269883\n"
     ]
    },
    {
     "name": "stdout",
     "output_type": "stream",
     "text": [
      "test loss: 0.007055656053125858\n",
      "epoch: 4 ; loss:  0.003983234160051657\n"
     ]
    },
    {
     "name": "stdout",
     "output_type": "stream",
     "text": [
      "epoch: 5 ; loss:  0.004658929521586687\n"
     ]
    },
    {
     "name": "stdout",
     "output_type": "stream",
     "text": [
      "epoch: 6 ; loss:  0.004522495802503712\n"
     ]
    },
    {
     "name": "stdout",
     "output_type": "stream",
     "text": [
      "epoch: 7 ; loss:  0.004288857209501211\n"
     ]
    },
    {
     "name": "stdout",
     "output_type": "stream",
     "text": [
      "epoch: 8 ; loss:  0.004175008484462071\n"
     ]
    },
    {
     "name": "stdout",
     "output_type": "stream",
     "text": [
      "test loss: 0.0023131391499191523\n",
      "epoch: 9 ; loss:  0.004416358591159049\n"
     ]
    },
    {
     "name": "stdout",
     "output_type": "stream",
     "text": [
      "epoch: 10 ; loss:  0.004485867807357083\n"
     ]
    },
    {
     "name": "stdout",
     "output_type": "stream",
     "text": [
      "epoch: 11 ; loss:  0.004401704470879447\n"
     ]
    },
    {
     "name": "stdout",
     "output_type": "stream",
     "text": [
      "epoch: 12 ; loss:  0.0043037788317875966\n"
     ]
    },
    {
     "name": "stdout",
     "output_type": "stream",
     "text": [
      "epoch: 13 ; loss:  0.004381734717468834\n"
     ]
    },
    {
     "name": "stdout",
     "output_type": "stream",
     "text": [
      "test loss: 0.0020891122985631227\n",
      "epoch: 14 ; loss:  0.004338284488390048\n"
     ]
    },
    {
     "name": "stdout",
     "output_type": "stream",
     "text": [
      "epoch: 15 ; loss:  0.004381519820371572\n"
     ]
    },
    {
     "name": "stdout",
     "output_type": "stream",
     "text": [
      "epoch: 16 ; loss:  0.004006036295042224\n"
     ]
    },
    {
     "name": "stdout",
     "output_type": "stream",
     "text": [
      "epoch: 17 ; loss:  0.004331066880536639\n"
     ]
    },
    {
     "name": "stdout",
     "output_type": "stream",
     "text": [
      "epoch: 18 ; loss:  0.003974251553467489\n"
     ]
    },
    {
     "name": "stdout",
     "output_type": "stream",
     "text": [
      "test loss: 0.0015893506351858377\n",
      "epoch: 19 ; loss:  0.003932646372400732\n"
     ]
    },
    {
     "name": "stdout",
     "output_type": "stream",
     "text": [
      "epoch: 20 ; loss:  0.003753110608758047\n"
     ]
    },
    {
     "name": "stdout",
     "output_type": "stream",
     "text": [
      "epoch: 21 ; loss:  0.0035191031508984326\n"
     ]
    },
    {
     "name": "stdout",
     "output_type": "stream",
     "text": [
      "epoch: 22 ; loss:  0.0034105304720109418\n"
     ]
    },
    {
     "name": "stdout",
     "output_type": "stream",
     "text": [
      "epoch: 23 ; loss:  0.0033696538350975855\n"
     ]
    },
    {
     "name": "stdout",
     "output_type": "stream",
     "text": [
      "test loss: 0.0012001460418105125\n",
      "epoch: 24 ; loss:  0.0033487681166081847\n"
     ]
    },
    {
     "name": "stdout",
     "output_type": "stream",
     "text": [
      "epoch: 25 ; loss:  0.003338868644586945\n"
     ]
    },
    {
     "name": "stdout",
     "output_type": "stream",
     "text": [
      "epoch: 26 ; loss:  0.003332018546590064\n"
     ]
    },
    {
     "name": "stdout",
     "output_type": "stream",
     "text": [
      "epoch: 27 ; loss:  0.0033256203660442392\n"
     ]
    },
    {
     "name": "stdout",
     "output_type": "stream",
     "text": [
      "epoch: 28 ; loss:  0.003320807639988556\n"
     ]
    },
    {
     "name": "stdout",
     "output_type": "stream",
     "text": [
      "test loss: 0.0011761189671233296\n",
      "epoch: 29 ; loss:  0.003316507441916657\n"
     ]
    },
    {
     "name": "stdout",
     "output_type": "stream",
     "text": [
      "epoch: 30 ; loss:  0.003313110562445386\n"
     ]
    },
    {
     "name": "stdout",
     "output_type": "stream",
     "text": [
      "epoch: 31 ; loss:  0.0033094695185129906\n"
     ]
    },
    {
     "name": "stdout",
     "output_type": "stream",
     "text": [
      "epoch: 32 ; loss:  0.0033068333631912717\n"
     ]
    },
    {
     "name": "stdout",
     "output_type": "stream",
     "text": [
      "epoch: 33 ; loss:  0.0033043822537313916\n"
     ]
    },
    {
     "name": "stdout",
     "output_type": "stream",
     "text": [
      "test loss: 0.001180772203952074\n",
      "epoch: 34 ; loss:  0.0033022284051555575\n"
     ]
    },
    {
     "name": "stdout",
     "output_type": "stream",
     "text": [
      "epoch: 35 ; loss:  0.003300227080986991\n"
     ]
    },
    {
     "name": "stdout",
     "output_type": "stream",
     "text": [
      "epoch: 36 ; loss:  0.0032981750846843246\n"
     ]
    },
    {
     "name": "stdout",
     "output_type": "stream",
     "text": [
      "epoch: 37 ; loss:  0.003296035103010543\n"
     ]
    },
    {
     "name": "stdout",
     "output_type": "stream",
     "text": [
      "epoch: 38 ; loss:  0.003294279893409654\n"
     ]
    },
    {
     "name": "stdout",
     "output_type": "stream",
     "text": [
      "test loss: 0.0011935264337807894\n",
      "epoch: 39 ; loss:  0.00329241928908735\n"
     ]
    },
    {
     "name": "stdout",
     "output_type": "stream",
     "text": [
      "epoch: 40 ; loss:  0.0032906652048175253\n"
     ]
    },
    {
     "name": "stdout",
     "output_type": "stream",
     "text": [
      "epoch: 41 ; loss:  0.0032893492828896557\n"
     ]
    },
    {
     "name": "stdout",
     "output_type": "stream",
     "text": [
      "epoch: 42 ; loss:  0.0032873611925373536\n"
     ]
    },
    {
     "name": "stdout",
     "output_type": "stream",
     "text": [
      "epoch: 43 ; loss:  0.003286173535030294\n"
     ]
    },
    {
     "name": "stdout",
     "output_type": "stream",
     "text": [
      "test loss: 0.0012022082228213549\n",
      "epoch: 44 ; loss:  0.003284038425119092\n"
     ]
    },
    {
     "name": "stdout",
     "output_type": "stream",
     "text": [
      "epoch: 45 ; loss:  0.0032832124131611713\n"
     ]
    },
    {
     "name": "stdout",
     "output_type": "stream",
     "text": [
      "epoch: 46 ; loss:  0.0032805544263215677\n"
     ]
    },
    {
     "name": "stdout",
     "output_type": "stream",
     "text": [
      "epoch: 47 ; loss:  0.0032776695411831235\n"
     ]
    },
    {
     "name": "stdout",
     "output_type": "stream",
     "text": [
      "epoch: 48 ; loss:  0.0032736506290905604\n"
     ]
    },
    {
     "name": "stdout",
     "output_type": "stream",
     "text": [
      "test loss: 0.0012148965615779161\n",
      "epoch: 49 ; loss:  0.003271163278647798\n"
     ]
    },
    {
     "name": "stdout",
     "output_type": "stream",
     "text": [
      "epoch: 50 ; loss:  0.0032670053672342095\n"
     ]
    },
    {
     "name": "stdout",
     "output_type": "stream",
     "text": [
      "epoch: 51 ; loss:  0.0032628381632576814\n"
     ]
    },
    {
     "name": "stdout",
     "output_type": "stream",
     "text": [
      "epoch: 52 ; loss:  0.0032598424391736595\n"
     ]
    },
    {
     "name": "stdout",
     "output_type": "stream",
     "text": [
      "epoch: 53 ; loss:  0.0032550456770336408\n"
     ]
    },
    {
     "name": "stdout",
     "output_type": "stream",
     "text": [
      "test loss: 0.0012169720139354467\n",
      "epoch: 54 ; loss:  0.0032515328712042642\n"
     ]
    },
    {
     "name": "stdout",
     "output_type": "stream",
     "text": [
      "epoch: 55 ; loss:  0.0032491260706057506\n"
     ]
    },
    {
     "name": "stdout",
     "output_type": "stream",
     "text": [
      "epoch: 56 ; loss:  0.0032458938638261466\n"
     ]
    },
    {
     "name": "stdout",
     "output_type": "stream",
     "text": [
      "epoch: 57 ; loss:  0.003243146711517218\n"
     ]
    },
    {
     "name": "stdout",
     "output_type": "stream",
     "text": [
      "epoch: 58 ; loss:  0.003240650184307947\n"
     ]
    },
    {
     "name": "stdout",
     "output_type": "stream",
     "text": [
      "test loss: 0.001218539895489812\n",
      "epoch: 59 ; loss:  0.0032380905398505695\n"
     ]
    },
    {
     "name": "stdout",
     "output_type": "stream",
     "text": [
      "epoch: 60 ; loss:  0.003236287925056235\n"
     ]
    },
    {
     "name": "stdout",
     "output_type": "stream",
     "text": [
      "epoch: 61 ; loss:  0.0032348553150463428\n"
     ]
    },
    {
     "name": "stdout",
     "output_type": "stream",
     "text": [
      "epoch: 62 ; loss:  0.0032334065446395863\n"
     ]
    },
    {
     "name": "stdout",
     "output_type": "stream",
     "text": [
      "epoch: 63 ; loss:  0.0032311502748181824\n"
     ]
    },
    {
     "name": "stdout",
     "output_type": "stream",
     "text": [
      "test loss: 0.0012705334229394794\n",
      "epoch: 64 ; loss:  0.0032298654723624588\n"
     ]
    },
    {
     "name": "stdout",
     "output_type": "stream",
     "text": [
      "epoch: 65 ; loss:  0.003228698319077239\n"
     ]
    },
    {
     "name": "stdout",
     "output_type": "stream",
     "text": [
      "epoch: 66 ; loss:  0.0032278013198802705\n"
     ]
    },
    {
     "name": "stdout",
     "output_type": "stream",
     "text": [
      "epoch: 67 ; loss:  0.003226958357400489\n"
     ]
    },
    {
     "name": "stdout",
     "output_type": "stream",
     "text": [
      "epoch: 68 ; loss:  0.0032263031703692797\n"
     ]
    },
    {
     "name": "stdout",
     "output_type": "stream",
     "text": [
      "test loss: 0.0012632483849301934\n",
      "epoch: 69 ; loss:  0.0032257451734888816\n"
     ]
    },
    {
     "name": "stdout",
     "output_type": "stream",
     "text": [
      "epoch: 70 ; loss:  0.003224716167330807\n"
     ]
    },
    {
     "name": "stdout",
     "output_type": "stream",
     "text": [
      "epoch: 71 ; loss:  0.003224200718056648\n"
     ]
    },
    {
     "name": "stdout",
     "output_type": "stream",
     "text": [
      "epoch: 72 ; loss:  0.00322302077277625\n"
     ]
    },
    {
     "name": "stdout",
     "output_type": "stream",
     "text": [
      "epoch: 73 ; loss:  0.003222682816878198\n"
     ]
    },
    {
     "name": "stdout",
     "output_type": "stream",
     "text": [
      "test loss: 0.0012593010906130075\n",
      "epoch: 74 ; loss:  0.0032223543256022827\n"
     ]
    },
    {
     "name": "stdout",
     "output_type": "stream",
     "text": [
      "epoch: 75 ; loss:  0.00322132676137408\n"
     ]
    },
    {
     "name": "stdout",
     "output_type": "stream",
     "text": [
      "epoch: 76 ; loss:  0.0032209262795678583\n"
     ]
    },
    {
     "name": "stdout",
     "output_type": "stream",
     "text": [
      "epoch: 77 ; loss:  0.0032200626841990976\n"
     ]
    },
    {
     "name": "stdout",
     "output_type": "stream",
     "text": [
      "epoch: 78 ; loss:  0.0032191420514321965\n"
     ]
    },
    {
     "name": "stdout",
     "output_type": "stream",
     "text": [
      "test loss: 0.0012599750189110637\n",
      "epoch: 79 ; loss:  0.003218238007573892\n"
     ]
    },
    {
     "name": "stdout",
     "output_type": "stream",
     "text": [
      "epoch: 80 ; loss:  0.003203066220565145\n"
     ]
    },
    {
     "name": "stdout",
     "output_type": "stream",
     "text": [
      "epoch: 81 ; loss:  0.003201118024263551\n"
     ]
    },
    {
     "name": "stdout",
     "output_type": "stream",
     "text": [
      "epoch: 82 ; loss:  0.003200234413682765\n"
     ]
    },
    {
     "name": "stdout",
     "output_type": "stream",
     "text": [
      "epoch: 83 ; loss:  0.003199697997057958\n"
     ]
    },
    {
     "name": "stdout",
     "output_type": "stream",
     "text": [
      "test loss: 0.001201456761918962\n",
      "epoch: 84 ; loss:  0.003199475371332831\n"
     ]
    },
    {
     "name": "stdout",
     "output_type": "stream",
     "text": [
      "epoch: 85 ; loss:  0.0031986423727359487\n"
     ]
    },
    {
     "name": "stdout",
     "output_type": "stream",
     "text": [
      "epoch: 86 ; loss:  0.0031983785709514463\n"
     ]
    },
    {
     "name": "stdout",
     "output_type": "stream",
     "text": [
      "epoch: 87 ; loss:  0.0031978855972412045\n"
     ]
    },
    {
     "name": "stdout",
     "output_type": "stream",
     "text": [
      "epoch: 88 ; loss:  0.0031977695999859997\n"
     ]
    },
    {
     "name": "stdout",
     "output_type": "stream",
     "text": [
      "test loss: 0.0011961455456912518\n",
      "epoch: 89 ; loss:  0.0031970002568564365\n"
     ]
    },
    {
     "name": "stdout",
     "output_type": "stream",
     "text": [
      "epoch: 90 ; loss:  0.003196822226577061\n"
     ]
    },
    {
     "name": "stdout",
     "output_type": "stream",
     "text": [
      "epoch: 91 ; loss:  0.0031965945561884712\n"
     ]
    },
    {
     "name": "stdout",
     "output_type": "stream",
     "text": [
      "epoch: 92 ; loss:  0.003196071133138193\n"
     ]
    },
    {
     "name": "stdout",
     "output_type": "stream",
     "text": [
      "epoch: 93 ; loss:  0.0031958098374418246\n"
     ]
    },
    {
     "name": "stdout",
     "output_type": "stream",
     "text": [
      "test loss: 0.0011884297709912062\n",
      "epoch: 94 ; loss:  0.003195412748103916\n"
     ]
    },
    {
     "name": "stdout",
     "output_type": "stream",
     "text": [
      "epoch: 95 ; loss:  0.0031952875695270403\n"
     ]
    },
    {
     "name": "stdout",
     "output_type": "stream",
     "text": [
      "epoch: 96 ; loss:  0.003194617311159365\n"
     ]
    },
    {
     "name": "stdout",
     "output_type": "stream",
     "text": [
      "epoch: 97 ; loss:  0.0031941983709006185\n"
     ]
    },
    {
     "name": "stdout",
     "output_type": "stream",
     "text": [
      "epoch: 98 ; loss:  0.003194265302430579\n"
     ]
    },
    {
     "name": "stdout",
     "output_type": "stream",
     "text": [
      "test loss: 0.0011808618437498808\n",
      "epoch: 99 ; loss:  0.00319393645712003\n"
     ]
    },
    {
     "name": "stdout",
     "output_type": "stream",
     "text": [
      "epoch: 100 ; loss:  0.0031934696040495708\n"
     ]
    },
    {
     "name": "stdout",
     "output_type": "stream",
     "text": [
      "epoch: 101 ; loss:  0.0031930064778369007\n"
     ]
    },
    {
     "name": "stdout",
     "output_type": "stream",
     "text": [
      "epoch: 102 ; loss:  0.003193176145396635\n"
     ]
    },
    {
     "name": "stdout",
     "output_type": "stream",
     "text": [
      "epoch: 103 ; loss:  0.0031927620650803444\n"
     ]
    },
    {
     "name": "stdout",
     "output_type": "stream",
     "text": [
      "test loss: 0.0011763854417949915\n",
      "epoch: 104 ; loss:  0.003192610288095363\n"
     ]
    },
    {
     "name": "stdout",
     "output_type": "stream",
     "text": [
      "epoch: 105 ; loss:  0.003192244600684043\n"
     ]
    },
    {
     "name": "stdout",
     "output_type": "stream",
     "text": [
      "epoch: 106 ; loss:  0.003192004235330289\n"
     ]
    },
    {
     "name": "stdout",
     "output_type": "stream",
     "text": [
      "epoch: 107 ; loss:  0.0031917721629588654\n"
     ]
    },
    {
     "name": "stdout",
     "output_type": "stream",
     "text": [
      "epoch: 108 ; loss:  0.0031917146088558746\n"
     ]
    },
    {
     "name": "stdout",
     "output_type": "stream",
     "text": [
      "test loss: 0.001171765266917646\n",
      "epoch: 109 ; loss:  0.003191477535353219\n"
     ]
    },
    {
     "name": "stdout",
     "output_type": "stream",
     "text": [
      "epoch: 110 ; loss:  0.0031915390555928994\n"
     ]
    },
    {
     "name": "stdout",
     "output_type": "stream",
     "text": [
      "epoch: 111 ; loss:  0.003191434704180848\n"
     ]
    },
    {
     "name": "stdout",
     "output_type": "stream",
     "text": [
      "epoch: 112 ; loss:  0.003191108106332021\n"
     ]
    },
    {
     "name": "stdout",
     "output_type": "stream",
     "text": [
      "epoch: 113 ; loss:  0.0031909343349080348\n"
     ]
    },
    {
     "name": "stdout",
     "output_type": "stream",
     "text": [
      "test loss: 0.0011684461496770382\n",
      "epoch: 114 ; loss:  0.0031908358046121485\n"
     ]
    },
    {
     "name": "stdout",
     "output_type": "stream",
     "text": [
      "epoch: 115 ; loss:  0.003190917796679238\n"
     ]
    },
    {
     "name": "stdout",
     "output_type": "stream",
     "text": [
      "epoch: 116 ; loss:  0.0031905647017194403\n"
     ]
    },
    {
     "name": "stdout",
     "output_type": "stream",
     "text": [
      "epoch: 117 ; loss:  0.0031904109099922286\n"
     ]
    },
    {
     "name": "stdout",
     "output_type": "stream",
     "text": [
      "epoch: 118 ; loss:  0.0031905382818153707\n"
     ]
    },
    {
     "name": "stdout",
     "output_type": "stream",
     "text": [
      "test loss: 0.0011682970216497779\n",
      "epoch: 119 ; loss:  0.003190247362880912\n"
     ]
    },
    {
     "name": "stdout",
     "output_type": "stream",
     "text": [
      "epoch: 120 ; loss:  0.003190041945836823\n"
     ]
    },
    {
     "name": "stdout",
     "output_type": "stream",
     "text": [
      "epoch: 121 ; loss:  0.003190043820899456\n"
     ]
    },
    {
     "name": "stdout",
     "output_type": "stream",
     "text": [
      "epoch: 122 ; loss:  0.0031898466202183117\n"
     ]
    },
    {
     "name": "stdout",
     "output_type": "stream",
     "text": [
      "epoch: 123 ; loss:  0.0031898283973715207\n"
     ]
    },
    {
     "name": "stdout",
     "output_type": "stream",
     "text": [
      "test loss: 0.0011659389128908515\n",
      "epoch: 124 ; loss:  0.0031895234290141203\n"
     ]
    },
    {
     "name": "stdout",
     "output_type": "stream",
     "text": [
      "epoch: 125 ; loss:  0.003189600995105591\n"
     ]
    },
    {
     "name": "stdout",
     "output_type": "stream",
     "text": [
      "epoch: 126 ; loss:  0.0031895633769372742\n"
     ]
    },
    {
     "name": "stdout",
     "output_type": "stream",
     "text": [
      "epoch: 127 ; loss:  0.0031894370595581642\n"
     ]
    },
    {
     "name": "stdout",
     "output_type": "stream",
     "text": [
      "epoch: 128 ; loss:  0.0031894820534252716\n"
     ]
    },
    {
     "name": "stdout",
     "output_type": "stream",
     "text": [
      "test loss: 0.0011653504334390163\n",
      "epoch: 129 ; loss:  0.003189485953331689\n"
     ]
    },
    {
     "name": "stdout",
     "output_type": "stream",
     "text": [
      "epoch: 130 ; loss:  0.003188925694381729\n"
     ]
    },
    {
     "name": "stdout",
     "output_type": "stream",
     "text": [
      "epoch: 131 ; loss:  0.003189318211603188\n"
     ]
    },
    {
     "name": "stdout",
     "output_type": "stream",
     "text": [
      "epoch: 132 ; loss:  0.0031888437793443514\n"
     ]
    },
    {
     "name": "stdout",
     "output_type": "stream",
     "text": [
      "epoch: 133 ; loss:  0.0031885752436616537\n"
     ]
    },
    {
     "name": "stdout",
     "output_type": "stream",
     "text": [
      "test loss: 0.001164133776910603\n",
      "epoch: 134 ; loss:  0.003188754048536235\n"
     ]
    },
    {
     "name": "stdout",
     "output_type": "stream",
     "text": [
      "epoch: 135 ; loss:  0.003188613804571962\n"
     ]
    },
    {
     "name": "stdout",
     "output_type": "stream",
     "text": [
      "epoch: 136 ; loss:  0.003188519652115731\n"
     ]
    },
    {
     "name": "stdout",
     "output_type": "stream",
     "text": [
      "epoch: 137 ; loss:  0.0031885932446245784\n"
     ]
    },
    {
     "name": "stdout",
     "output_type": "stream",
     "text": [
      "epoch: 138 ; loss:  0.0031881338154327067\n"
     ]
    },
    {
     "name": "stdout",
     "output_type": "stream",
     "text": [
      "test loss: 0.0011632947716861963\n",
      "epoch: 139 ; loss:  0.003188410321948336\n"
     ]
    },
    {
     "name": "stdout",
     "output_type": "stream",
     "text": [
      "epoch: 140 ; loss:  0.0031884833073331535\n"
     ]
    },
    {
     "name": "stdout",
     "output_type": "stream",
     "text": [
      "epoch: 141 ; loss:  0.0031880172882847013\n"
     ]
    },
    {
     "name": "stdout",
     "output_type": "stream",
     "text": [
      "epoch: 142 ; loss:  0.0031882385078478674\n"
     ]
    },
    {
     "name": "stdout",
     "output_type": "stream",
     "text": [
      "epoch: 143 ; loss:  0.003187733034269599\n"
     ]
    },
    {
     "name": "stdout",
     "output_type": "stream",
     "text": [
      "test loss: 0.0011621282901614904\n",
      "epoch: 144 ; loss:  0.0031880605465080653\n"
     ]
    },
    {
     "name": "stdout",
     "output_type": "stream",
     "text": [
      "epoch: 145 ; loss:  0.0031878367128156614\n"
     ]
    },
    {
     "name": "stdout",
     "output_type": "stream",
     "text": [
      "epoch: 146 ; loss:  0.003187939728541563\n"
     ]
    },
    {
     "name": "stdout",
     "output_type": "stream",
     "text": [
      "epoch: 147 ; loss:  0.003187558662349971\n"
     ]
    },
    {
     "name": "stdout",
     "output_type": "stream",
     "text": [
      "epoch: 148 ; loss:  0.00318775759314028\n"
     ]
    },
    {
     "name": "stdout",
     "output_type": "stream",
     "text": [
      "test loss: 0.0011630565859377384\n",
      "epoch: 149 ; loss:  0.0031878605241241445\n"
     ]
    },
    {
     "name": "stdout",
     "output_type": "stream",
     "text": [
      "epoch: 150 ; loss:  0.0031875323476610977\n"
     ]
    },
    {
     "name": "stdout",
     "output_type": "stream",
     "text": [
      "epoch: 151 ; loss:  0.0031874723173258824\n"
     ]
    },
    {
     "name": "stdout",
     "output_type": "stream",
     "text": [
      "epoch: 152 ; loss:  0.003187326364773415\n"
     ]
    },
    {
     "name": "stdout",
     "output_type": "stream",
     "text": [
      "epoch: 153 ; loss:  0.0031872000167114615\n"
     ]
    },
    {
     "name": "stdout",
     "output_type": "stream",
     "text": [
      "test loss: 0.0011590950889512897\n",
      "epoch: 154 ; loss:  0.0031870252090470306\n"
     ]
    },
    {
     "name": "stdout",
     "output_type": "stream",
     "text": [
      "epoch: 155 ; loss:  0.0031874526171527797\n"
     ]
    },
    {
     "name": "stdout",
     "output_type": "stream",
     "text": [
      "epoch: 156 ; loss:  0.003187119566115105\n"
     ]
    },
    {
     "name": "stdout",
     "output_type": "stream",
     "text": [
      "epoch: 157 ; loss:  0.0031867502528486738\n"
     ]
    },
    {
     "name": "stdout",
     "output_type": "stream",
     "text": [
      "epoch: 158 ; loss:  0.0031868405960600124\n"
     ]
    },
    {
     "name": "stdout",
     "output_type": "stream",
     "text": [
      "test loss: 0.0011586907785385847\n",
      "epoch: 159 ; loss:  0.0031872144889957352\n"
     ]
    },
    {
     "name": "stdout",
     "output_type": "stream",
     "text": [
      "epoch: 160 ; loss:  0.0031866987012834757\n"
     ]
    },
    {
     "name": "stdout",
     "output_type": "stream",
     "text": [
      "epoch: 161 ; loss:  0.0031868465409568693\n"
     ]
    },
    {
     "name": "stdout",
     "output_type": "stream",
     "text": [
      "epoch: 162 ; loss:  0.003186816453666854\n"
     ]
    },
    {
     "name": "stdout",
     "output_type": "stream",
     "text": [
      "epoch: 163 ; loss:  0.0031867007577630877\n"
     ]
    },
    {
     "name": "stdout",
     "output_type": "stream",
     "text": [
      "test loss: 0.0011586686596274376\n",
      "epoch: 164 ; loss:  0.0031865856563410727\n"
     ]
    },
    {
     "name": "stdout",
     "output_type": "stream",
     "text": [
      "epoch: 165 ; loss:  0.003186379047971864\n"
     ]
    },
    {
     "name": "stdout",
     "output_type": "stream",
     "text": [
      "epoch: 166 ; loss:  0.0031862042572925408\n"
     ]
    },
    {
     "name": "stdout",
     "output_type": "stream",
     "text": [
      "epoch: 167 ; loss:  0.0031862341955873523\n"
     ]
    },
    {
     "name": "stdout",
     "output_type": "stream",
     "text": [
      "epoch: 168 ; loss:  0.003186379547154185\n"
     ]
    },
    {
     "name": "stdout",
     "output_type": "stream",
     "text": [
      "test loss: 0.0011595920659601688\n",
      "epoch: 169 ; loss:  0.003186309163211624\n"
     ]
    },
    {
     "name": "stdout",
     "output_type": "stream",
     "text": [
      "epoch: 170 ; loss:  0.0031858712466110955\n"
     ]
    },
    {
     "name": "stdout",
     "output_type": "stream",
     "text": [
      "epoch: 171 ; loss:  0.0031858379576706563\n"
     ]
    },
    {
     "name": "stdout",
     "output_type": "stream",
     "text": [
      "epoch: 172 ; loss:  0.0031862628959215163\n"
     ]
    },
    {
     "name": "stdout",
     "output_type": "stream",
     "text": [
      "epoch: 173 ; loss:  0.003186078729190665\n"
     ]
    },
    {
     "name": "stdout",
     "output_type": "stream",
     "text": [
      "test loss: 0.0011599449208006263\n",
      "epoch: 174 ; loss:  0.003185894111950071\n"
     ]
    },
    {
     "name": "stdout",
     "output_type": "stream",
     "text": [
      "epoch: 175 ; loss:  0.003185909770754057\n"
     ]
    },
    {
     "name": "stdout",
     "output_type": "stream",
     "text": [
      "epoch: 176 ; loss:  0.003185621368588351\n"
     ]
    },
    {
     "name": "stdout",
     "output_type": "stream",
     "text": [
      "epoch: 177 ; loss:  0.0031855840060298467\n"
     ]
    },
    {
     "name": "stdout",
     "output_type": "stream",
     "text": [
      "epoch: 178 ; loss:  0.003185927483091648\n"
     ]
    },
    {
     "name": "stdout",
     "output_type": "stream",
     "text": [
      "test loss: 0.0011593056842684746\n",
      "epoch: 179 ; loss:  0.003185768187489823\n"
     ]
    }
   ],
   "source": [
    "##train\n",
    "\n",
    "optimizer = torch.optim.Adam(net.parameters(), lr=0.008)\n",
    "loss_func = torch.nn.MSELoss()  \n",
    "\n",
    "# train the network\n",
    "for t in range(180):\n",
    "    train_loss=0\n",
    "    \n",
    "    if t>=20:\n",
    "        optimizer = torch.optim.Adam(net.parameters(), lr=0.0002)\n",
    "        \n",
    "\n",
    "    if t>=80:\n",
    "        optimizer = torch.optim.Adam(net.parameters(), lr=0.0001)\n",
    "        \n",
    "    for i, (x, y) in enumerate(trainloader):\n",
    "\n",
    "        prediction = net(x)     # input x and predict based on x\n",
    "        loss = loss_func(prediction, y)     # must be (1. nn output, 2. target)\n",
    "        optimizer.zero_grad()   # clear gradients for next train\n",
    "        loss.backward()         # backpropagation, compute gradients\n",
    "        train_loss += loss.item()*x.size(0)\n",
    "        optimizer.step()\n",
    "### test loss\n",
    "    if (t+1)%5==0:  \n",
    "        test_loss=0\n",
    "        for i, (data, target) in enumerate(testloader):\n",
    "            # forward pass: compute predicted outputs by passing inputs to the model\n",
    "            output_test = net(data)\n",
    "\n",
    "            loss = loss_func(output_test, target)\n",
    "            # update running validation loss\n",
    "            test_loss += loss.item()*data.size(0)\n",
    "        test_loss_avg = test_loss/len(testloader.sampler)\n",
    "        print('test loss:',test_loss_avg)\n",
    "    train_loss_avg = train_loss/len(trainloader.sampler)\n",
    "\n",
    "    print('epoch:',t,'; loss: ',train_loss_avg)"
   ]
  },
  {
   "cell_type": "code",
   "execution_count": 10,
   "metadata": {
    "collapsed": false
   },
   "outputs": [
    {
     "name": "stdout",
     "output_type": "stream",
     "text": [
      "0.0019654184579849243\n",
      "0.0015855974052101374\n",
      "0.001768252463079989\n",
      "0.001751741860061884\n",
      "0.0017405205871909857\n",
      "0.0017334811855107546\n",
      "0.0016658463282510638\n"
     ]
    },
    {
     "name": "stdout",
     "output_type": "stream",
     "text": [
      "0.0019841918256133795\n",
      "0.0015644797822460532\n",
      "0.001901986077427864\n",
      "0.0018417818937450647\n",
      "0.0016060146735981107\n",
      "0.0016873003914952278\n",
      "0.0014106454327702522\n"
     ]
    },
    {
     "name": "stdout",
     "output_type": "stream",
     "text": [
      "0.0016409592935815454\n",
      "0.0016237236559391022\n",
      "0.001578098745085299\n",
      "0.0018760209204629064\n",
      "0.0017844191752374172\n",
      "0.0018202195642516017\n",
      "0.0019400727469474077\n"
     ]
    },
    {
     "name": "stdout",
     "output_type": "stream",
     "text": [
      "0.0022733970545232296\n",
      "0.0016727019101381302\n",
      "0.0016376482089981437\n",
      "0.001808294327929616\n",
      "0.0017557195387780666\n",
      "0.0018360859248787165\n",
      "0.0022905482910573483\n"
     ]
    },
    {
     "name": "stdout",
     "output_type": "stream",
     "text": [
      "0.0016150724841281772\n",
      "0.001976166618987918\n",
      "0.002033582190051675\n",
      "0.001777529250830412\n",
      "0.0014864165568724275\n",
      "0.0013083835365250707\n",
      "0.0016979827778413892\n"
     ]
    },
    {
     "name": "stdout",
     "output_type": "stream",
     "text": [
      "0.0016325208125635982\n",
      "0.0015240209177136421\n",
      "0.0017267835792154074\n",
      "0.0017863342072814703\n",
      "0.0019041451159864664\n",
      "0.001644172240048647\n",
      "0.001498112571425736\n"
     ]
    },
    {
     "name": "stdout",
     "output_type": "stream",
     "text": [
      "0.001989389071241021\n",
      "0.0019463831558823586\n",
      "0.0015593748539686203\n",
      "0.0018334316555410624\n",
      "0.0018279912183061242\n"
     ]
    },
    {
     "name": "stdout",
     "output_type": "stream",
     "text": [
      "0.0015793625498190522\n",
      "0.0018633974250406027\n",
      "0.0014112538192421198\n",
      "loss:  0.0017473394866101444\n"
     ]
    }
   ],
   "source": [
    "net.load_state_dict(torch.load('./know_results/summer/solar_wo0216.pth'))\n",
    "n_sample=50\n",
    "loss_func = torch.nn.MSELoss()  \n",
    "\n",
    "test_loss=0.0\n",
    "test_results_wo=torch.zeros_like(testY)\n",
    "test_result_wo=test_results_wo.repeat(1,n_sample)\n",
    "test_loss_sample=0\n",
    "net.eval()\n",
    "for t in range(n_sample):\n",
    "    test_loss=0.0\n",
    "    for i, (data, target) in enumerate(testloader):\n",
    "            # forward pass: compute predicted outputs by passing inputs to the model\n",
    "        output = net(data)\n",
    "#         print(output.shape)\n",
    "        # calculate the loss\n",
    "        loss = loss_func(output, target)\n",
    "        # update running validation loss\n",
    "        test_loss += loss.item()*data.size(0)\n",
    "        if data.size(0)==batch_size:\n",
    "            test_result_wo[batch_size*i:batch_size*(i+1),t]=output.squeeze()\n",
    "        else:\n",
    "            test_result_wo[batch_size*i:,t]=output.squeeze()\n",
    "    test_loss_avg = test_loss/len(testloader.sampler)\n",
    "    test_loss_sample+=test_loss_avg\n",
    "    print(test_loss_avg)\n",
    "test_sample_avg_wo=test_loss_sample/n_sample\n",
    "print( 'loss: ',test_sample_avg_wo)"
   ]
  },
  {
   "cell_type": "code",
   "execution_count": 11,
   "metadata": {
    "collapsed": false
   },
   "outputs": [
    {
     "data": {
      "text/plain": [
       "<Figure size 1080x396 with 0 Axes>"
      ]
     },
     "execution_count": 11,
     "metadata": {},
     "output_type": "execute_result"
    },
    {
     "data": {
      "image/png": "[encoded data removed]",
      "text/plain": [
       "<Figure size 1080x360 with 1 Axes>"
      ]
     },
     "execution_count": 11,
     "metadata": {
      "needs_background": "light"
     },
     "output_type": "execute_result"
    },
    {
     "data": {
      "image/png": "[encoded data removed]",
      "text/plain": [
       "<Figure size 1080x360 with 1 Axes>"
      ]
     },
     "execution_count": 11,
     "metadata": {
      "needs_background": "light"
     },
     "output_type": "execute_result"
    }
   ],
   "source": [
    "test_wo=test_result_wo.mean(1)\n",
    "test_result_wo_np=test_result_wo.detach().cpu().numpy()\n",
    "plt.figure(figsize=(15, 5.5))\n",
    "visualization_period_1=4\n",
    "visualization_period_2=9\n",
    "\n",
    "length=(visualization_period_2-visualization_period_1)*96\n",
    "subset=testX[-visualization_period_2*96:-visualization_period_1*96,4]\n",
    "subset=subset.cpu().numpy()\n",
    "aaa=np.where(subset>0.5)[0]/96\n",
    "derate_plot=np.where(subset>0.5,0.5,0)\n",
    "subset_irra=testX[-visualization_period_2*96:-visualization_period_1*96,3]\n",
    "subset_irra=subset_irra.cpu().numpy()\n",
    "\n",
    "\n",
    "plt.figure(figsize=(15, 5))\n",
    "plt.plot(np.array(np.arange(len(derate_plot))),igbt_max_summer_test[-visualization_period_2*96:-visualization_period_1*96],label='Max IGBT Temperature')\n",
    "plt.axhline(y=100,linestyle='dashed',color='red',label='Derate Threshold')\n",
    "plt.yticks([30,70,110])\n",
    "plt.ylabel(\"IGBT Temperature\",fontsize=18)\n",
    "plt.legend(loc='lower right',fontsize=15)\n",
    "plt.xticks(size=20)\n",
    "plt.yticks(size=20)\n",
    "plt.legend(loc='lower right',fontsize=15)\n",
    "\n",
    "plt.savefig('know_results/max_igbt.png')\n",
    "\n",
    "# plt.ylim((-0.05, 1)) \n",
    "plt.show()\n",
    "\n",
    "\n",
    "plt.figure(figsize=(15, 5))\n",
    "for i in range(10):\n",
    "    plt.plot(np.array(np.arange(len(derate_plot))),igbt_temp_summer_test[i,-visualization_period_2*96:-visualization_period_1*96])\n",
    "plt.axhline(y=100,linestyle='dashed',color='red',label='Derate Threshold')\n",
    "plt.yticks([30,70,110])\n",
    "plt.ylabel(\"IGBT Temperature\",fontsize=20)\n",
    "plt.legend(loc='lower right')\n",
    "# plt.ylim((-0.05, 1)) \n",
    "plt.xticks(size=20)\n",
    "plt.yticks(size=20)\n",
    "plt.legend(loc='lower right',fontsize=15)\n",
    "\n",
    "plt.savefig('know_results/igbt.png')\n",
    "\n",
    "plt.show()\n"
   ]
  },
  {
   "cell_type": "markdown",
   "metadata": {
    "collapsed": false
   },
   "source": [
    "# save without constraint model"
   ]
  },
  {
   "cell_type": "code",
   "execution_count": 17,
   "metadata": {
    "collapsed": false
   },
   "outputs": [],
   "source": [
    "# torch.save(net.state_dict(), './know_results/summer/solar_wo0216.pth')"
   ]
  },
  {
   "cell_type": "code",
   "execution_count": 29,
   "metadata": {
    "collapsed": false
   },
   "outputs": [
    {
     "data": {
      "text/plain": [
       "<All keys matched successfully>"
      ]
     },
     "execution_count": 29,
     "metadata": {},
     "output_type": "execute_result"
    }
   ],
   "source": [
    "# net.load_state_dict(torch.load('./know_results/summer/solar_wo.pth'))"
   ]
  },
  {
   "cell_type": "markdown",
   "metadata": {
    "collapsed": false
   },
   "source": [
    "# generate constraint data"
   ]
  },
  {
   "cell_type": "code",
   "execution_count": 12,
   "metadata": {
    "collapsed": false
   },
   "outputs": [],
   "source": [
    "#P_W_data_inverterA=com_P_W_data[...,[0,1,2,5,7,8,9,10,11,12,13]] #InverterA_power,curtail_utility,curtail_on,TBOM,Tamb,    WS,ipoa,ipoa2,IGBT_derate_A,IGBT_off_A,watts,Feeder_indicater\n",
    "\n",
    "#generate nonnegative constraint samples\n",
    "non_nega_series=trainX[[38,7046,418,125,324,241,10298,432,15574,789,850],...].to(device)\n",
    "#generate upper bound constraint samples\n",
    "upper_limit_series=torch.tensor([[0.0, 0.0000, 0.0000, 0.9030, 1.0000, 0.0000, 1.0000,1, 0.6, 0.26],\n",
    "                                 [0.0, 0.0000, 0.0000, 0.99, 1.0000, 0.0000, 1.0000,1, 0.5, 0.25],\n",
    "                                  [0.0, 0.0000, 0.0000, 0.9030, 1.0000, 0.0000, 1.0000,1, 0.652, 0.9808],\n",
    "                                  [0.0, 0.0000, 0.0000, 0.9030, 1.0000, 0.0000, 1.0000,1, 0.4842, 0.2137],\n",
    "                                 [0.0, 0.0000, 0.0000, 0.89, 1.0000, 0.0000, 1.0000,1, 0.5895, 0.9008],\n",
    "                                 [0.0, 0.0000, 0.0000, 0.9630, 0.0000, 0.0000, 1.0000,1, 0.4842, 0.2137],\n",
    "                                  [0.0, 0.0000, 0.0000, 0.8386, 0.0000, 0.0000, 1.0000,1, 0.4842, 0.9808],\n",
    "                                  [0.0, 0.0000, 0.0000, 0.8310, 0.0000, 0.0000, 1.0000, 1,0.5368, 0.2411]]).to(device)\n",
    "\n",
    "\n",
    "#generate monotone constraint samples\n",
    "mono_series=torch.tensor([[0.0, 0.0000, 0.0000, 0.07, 0.0000, 0.0000, 1.0000,1, 0.6,0.26],\n",
    "                         [0.0, 0.0000, 0.0000, 0.08, 0.0000, 0.0000, 1.0000, 1,0.6,  0.26],\n",
    "                         [0.0, 0.0000, 0.0000, 0.1,0.0000, 0.0000, 1.0000, 1,0.6, 0.26],\n",
    "                         [0.0, 0.0000, 0.0000, 0.12, 0.0000, 0.0000, 1.0000,1, 0.6,  0.26],\n",
    "                         [0.0, 0.0000, 0.0000, 0.65, 0.0000, 0.0000, 1.0000, 1,0.6, 0.26],\n",
    "                         [0.0, 0.0000, 0.0000, 0.68, 0.0000, 0.0000, 1.0000, 1,0.6, 0.26],\n",
    "                         [0.0, 0.0000, 0.0000, 0.81, 0.0000, 0.0000, 1.0000, 1,0.6, 0.26],\n",
    "                         [0.0, 0.0000, 0.0000, 0.83, 0.0000, 0.0000, 1.0000, 1,0.6,0.26],]).to(device)\n",
    "\n",
    "# exact_0_series=trainX[[35,7042,430,550,12440,9550,8390,11390,24070],...].to(device)\n",
    "exact_0_series=torch.tensor([[0.0, 0.0000, 0.0000, 0.0000,0.0000, 0.0000, 0.0000, 0.0000, 0.8526,\n",
    "         0.1589],\n",
    "        [0.0, 0.0000, 0.0000, 0.0000, 0.0000, 0.0000, 0.0000, 0.0000, 0.84,\n",
    "         0.3589],\n",
    "        [0.0, 0.0000, 0.0000, 0.0000, 0.0000, 0.0000, 1.0000, 0.0000, 0.2,\n",
    "         0.1699],\n",
    "        [0.0, 0.0000, 0.0000, 0.0000, 0.0000, 0.0000, 0.0000, 0.0000, 0.15,\n",
    "         0.1753],\n",
    "        [0.0, 0.0000, 0.0000, 0, 0.0000,0.0000,  0.0000, 0.0000, 0.12,\n",
    "         0.1753],\n",
    "        [0.0, 0.0000, 0.0000, 0.00, 0.0000, 0.0000, 0.0000,0, 0.1,0.26],\n",
    "        [0.0, 0.0000, 0.0000, 0.0000, 0.0000, 0.0000, 0.0000, 0.0000, 0.12,\n",
    "         0.5151],\n",
    "        [0.0, 0.0000, 0.0000, 0.0000, 0.0000, 0.0000, 1.0000, 0.0000, 0.81,\n",
    "         0.4301],\n",
    "        [0.0, 0.0000, 0.0000, 0.0000, 0.0000, 0.0000, 0.0000, 0.0000, 0.08,\n",
    "         0.3973],\n",
    "        [0.0, 0.0000, 0.0000, 0.0000,0.0000, 0.0000, 0.0000, 0.0000, 0.6,\n",
    "         0.4849],\n",
    "        [0.0, 0.0000, 0.0000, 0.0000,0.0000, 0.0000, 0.0000, 0.0000, 0.12,\n",
    "         0.8466]]).to(device)\n",
    "\n",
    "\n",
    "derate_series=torch.tensor([[0.0, 0.0000, 0.0000, 0.4030,  1.0000, 0.0000, 1.0000,1, 0.3, 0.26],\n",
    "                            [0.0, 0.0000, 0.0000, 0.95,     1.0000, 0.0000, 1.0000,1, 0.5, 0.25],\n",
    "                            [0.0, 0.0000, 0.0000, 0.6030,    1.0000, 0.0000, 1.0000,1, 0.652, 0.9808],\n",
    "                            [0.0, 0.0000, 0.0000, 0.7030,   1.0000, 0.0000, 1.0000,1, 0.4842, 0.2137],\n",
    "                            [0.0, 0.0000, 0.0000, 0.89,     1.0000, 0.0000, 1.0000,1, 1.5895, 0.9808],\n",
    "                            [0.0, 0.0000, 0.0000, 0.9278, 1.0000, 0.0000, 1.0000, 1., 0.6211, 0.0055],\n",
    "                            [0.0, 0.0000, 0.0000, 0.4030,  0.0000, 0.0000, 1.0000,1, 0.3, 0.26],\n",
    "                            [0.0, 0.0000, 0.0000, 0.95,      0.0000, 0.0000, 1.0000,1, 0.5, 0.25],\n",
    "                            [0.0, 0.0000, 0.0000, 0.6030,    0.0000, 0.0000, 1.0000,1, 0.652, 0.9808],\n",
    "                            [0.0, 0.0000, 0.0000, 0.7030,   0.0000, 0.0000, 1.0000,1, 0.4842, 0.2137],\n",
    "                            [0.0, 0.0000, 0.0000, 0.89,     0.0000, 0.0000, 1.0000,1, 0.5895, 0.9808],\n",
    "                            [0.0, 0.0000, 0.0000, 0.9278, 0.0000, 0.0000, 1.0000, 1., 0.6211, 0.0055]]\n",
    "                             ).to(device)\n",
    "                            #curtail_utility,curtail_on,WS,ipoa,IGBT_derate_A,IGBT_off_A,watts,Feeder_indicater"
   ]
  },
  {
   "cell_type": "code",
   "execution_count": 21,
   "metadata": {
    "collapsed": false
   },
   "outputs": [
    {
     "data": {
      "text/plain": [
       "<All keys matched successfully>"
      ]
     },
     "execution_count": 21,
     "metadata": {},
     "output_type": "execute_result"
    }
   ],
   "source": [
    "# net.load_state_dict(torch.load('./know_results/summer/solar_wo0216.pth'))"
   ]
  },
  {
   "cell_type": "markdown",
   "metadata": {
    "collapsed": false
   },
   "source": [
    "# train the model with derate constraint only"
   ]
  },
  {
   "cell_type": "code",
   "execution_count": null,
   "metadata": {
    "collapsed": false,
    "scrolled": true
   },
   "outputs": [],
   "source": [
    "optimizer = torch.optim.Adam(net.parameters(), lr=0.0001)\n",
    "loss_func = torch.nn.MSELoss()  \n",
    "kl_loss = bnn.BKLLoss(reduction='mean', last_layer_only=False)\n",
    "# train the network\n",
    "for t in range(160):\n",
    "    train_loss=0\n",
    "    train_complexity_loss=0\n",
    "    non_negative_loss=0\n",
    "    upper_lim_loss=0\n",
    "    mono_loss=0\n",
    "    exact_value_loss=0\n",
    "    derate_loss=0\n",
    "    if t>=3 and t<40:\n",
    "        optimizer = torch.optim.Adam(net.parameters(), lr=0.0002)\n",
    "    if t>=40:\n",
    "        optimizer = torch.optim.Adam(net.parameters(), lr=0.0001)\n",
    "    if t>=90:\n",
    "        optimizer = torch.optim.Adam(net.parameters(), lr=0.00005)\n",
    "   \n",
    "    \n",
    "    for i, (x, y) in enumerate(trainloader):\n",
    "        prediction = net(x)     # input x and predict based on x\n",
    "        loss = loss_func(prediction, y)     # must be (1. nn output, 2. target)\n",
    "        complexity_loss = kl_loss(net)\n",
    "        optimizer.zero_grad()\n",
    "        \n",
    "        \n",
    "        \n",
    "        #Constraints\n",
    "        non_nega_output=net(non_nega_series)\n",
    "        up_lim_output=net(upper_limit_series)\n",
    "        mono_output=net(mono_series)\n",
    "        value_output=net(exact_0_series)\n",
    "        derate_output=net(derate_series)\n",
    "        non_nega_output[non_nega_output>0]=0\n",
    "        con_non_negative=-1*torch.mean(non_nega_output)\n",
    "        \n",
    "        up_lim_output[up_lim_output<1.]=0\n",
    "        con_upper_lim=torch.mean(up_lim_output)        \n",
    "    \n",
    "#         monotone\n",
    "        mono_0=mono_output[:-1]\n",
    "        mono_1=mono_output[1:]\n",
    "        diff=mono_0-mono_1\n",
    "        diff[diff<0]=0\n",
    "        con_mono=torch.mean(diff)\n",
    "        \n",
    "        # exact 0 when ipoa=0:\n",
    "        abs_value=torch.abs(value_output)\n",
    "        con_value=torch.mean(abs_value)\n",
    "        \n",
    "        \n",
    "        #derate mono:\n",
    "        de_0=derate_output[:6]\n",
    "        de_1=derate_output[6:]\n",
    "        sub=de_0-de_1\n",
    "        sub[sub<0]=0\n",
    "        con_derate=torch.mean(sub)\n",
    "        \n",
    "        \n",
    "        total_loss=0.000018*complexity_loss+loss+1*con_derate #con_upper_lim+con_mono++2*con_non_negative+2*con_value\n",
    "#         total_loss=0.00002*complexity_loss+loss+5*(con_non_negative+con_mono+con_value)\n",
    "        if t<3:\n",
    "            total_loss=0.00002*complexity_loss+loss\n",
    "        total_loss.backward()         # backpropagation, compute gradients\n",
    "        \n",
    "        train_loss += loss.item()*x.size(0)\n",
    "        train_complexity_loss+= complexity_loss.item()*x.size(0)\n",
    "        non_negative_loss+=con_non_negative\n",
    "        upper_lim_loss+=con_upper_lim\n",
    "        mono_loss+=con_mono\n",
    "        exact_value_loss+=con_value\n",
    "        derate_loss+=con_derate\n",
    "        optimizer.step()\n",
    "    train_loss_avg = train_loss/len(trainloader.sampler)\n",
    "    train_complexity_loss_avg=train_complexity_loss/len(trainloader.sampler)\n",
    "    non_negative_avg=non_negative_loss/(i+1)\n",
    "    upper_lim_avg=upper_lim_loss/(i+1)\n",
    "    mono_avg=mono_loss/(i+1)\n",
    "    exact_value_avg=exact_value_loss/(i+1)\n",
    "    derate_avg=derate_loss/(i+1)\n",
    "\n",
    "    print('epoch:',t,'; loss: ',train_loss_avg,'complexity loss:',train_complexity_loss_avg,'non_negative:',non_negative_avg,'upper_lim:',upper_lim_avg,'mono:',mono_avg,'exact_value:',exact_value_avg,'derate_mono',derate_avg)\n"
   ]
  },
  {
   "cell_type": "code",
   "execution_count": null,
   "metadata": {
    "collapsed": false
   },
   "outputs": [],
   "source": []
  },
  {
   "cell_type": "code",
   "execution_count": 25,
   "metadata": {
    "collapsed": false
   },
   "outputs": [],
   "source": [
    "# torch.save(net.state_dict(), './know_results/summer/solar_derate0216.pth')"
   ]
  },
  {
   "cell_type": "code",
   "execution_count": 42,
   "metadata": {
    "collapsed": false
   },
   "outputs": [
    {
     "data": {
      "text/plain": [
       "<All keys matched successfully>"
      ]
     },
     "execution_count": 42,
     "metadata": {},
     "output_type": "execute_result"
    }
   ],
   "source": [
    "# net.load_state_dict(torch.load('./know_results/summer/solar_derate0215.pth'))"
   ]
  },
  {
   "cell_type": "code",
   "execution_count": 13,
   "metadata": {
    "collapsed": false
   },
   "outputs": [
    {
     "data": {
      "text/plain": [
       "<All keys matched successfully>"
      ]
     },
     "execution_count": 13,
     "metadata": {},
     "output_type": "execute_result"
    }
   ],
   "source": [
    "net.load_state_dict(torch.load('./know_results/summer/solar_derate0216.pth'))"
   ]
  },
  {
   "cell_type": "code",
   "execution_count": 14,
   "metadata": {
    "collapsed": false,
    "scrolled": true
   },
   "outputs": [
    {
     "name": "stdout",
     "output_type": "stream",
     "text": [
      "0.0013202240224927664\n",
      "0.0010450159898027778\n",
      "0.001015238231047988\n",
      "0.0010413664858788252\n",
      "0.0010243133874610066\n",
      "0.001173800672404468\n"
     ]
    },
    {
     "name": "stdout",
     "output_type": "stream",
     "text": [
      "0.0010367395589128137\n",
      "0.0010732829105108976\n",
      "0.0010251135099679232\n",
      "0.0011378172785043716\n",
      "0.0010025514056906104\n",
      "0.001006942242383957\n",
      "0.0010519280331209302\n"
     ]
    },
    {
     "name": "stdout",
     "output_type": "stream",
     "text": [
      "0.0010110068833455443\n",
      "0.001005758997052908\n",
      "0.0010258046677336097\n",
      "0.0010432720882818103\n",
      "0.0010655415244400501\n",
      "0.0010096684563905\n",
      "0.0010297494009137154\n"
     ]
    },
    {
     "name": "stdout",
     "output_type": "stream",
     "text": [
      "0.0011736537562683225\n",
      "0.0010228746104985476\n",
      "0.001104072667658329\n",
      "0.0011486865114420652\n",
      "0.0010390172246843576\n",
      "0.001065553748048842\n",
      "0.0010840247850865126\n"
     ]
    },
    {
     "name": "stdout",
     "output_type": "stream",
     "text": [
      "0.0009990695398300886\n",
      "0.0010603315895423293\n",
      "0.001036321627907455\n",
      "0.0011711543193086982\n",
      "0.0012039431603625417\n",
      "0.0011021506506949663\n",
      "0.001011716085486114\n"
     ]
    },
    {
     "name": "stdout",
     "output_type": "stream",
     "text": [
      "0.001005815458483994\n",
      "0.001165099791251123\n",
      "0.0010983963729813695\n",
      "0.0010117428610101342\n",
      "0.001039365422911942\n",
      "0.0010438141180202365\n",
      "0.0010165349813178182\n"
     ]
    },
    {
     "name": "stdout",
     "output_type": "stream",
     "text": [
      "0.0010686359601095319\n",
      "0.0010677376994863153\n",
      "0.001017366535961628\n",
      "0.0011101457057520747\n",
      "0.0010931547731161118\n"
     ]
    },
    {
     "name": "stdout",
     "output_type": "stream",
     "text": [
      "0.0010261271381750703\n",
      "0.0010654526995494962\n",
      "0.0011561342980712652\n",
      "0.0012208962580189109\n",
      "loss:  0.0010714825219474732\n"
     ]
    }
   ],
   "source": [
    "#test\n",
    "n_sample=50\n",
    "test_loss=0.0\n",
    "test_results_w=torch.zeros_like(testY)\n",
    "test_result_w=test_results_w.repeat(1,n_sample)\n",
    "test_loss_sample=0\n",
    "net.eval()\n",
    "for t in range(n_sample):\n",
    "    test_loss=0.0\n",
    "    for i, (data, target) in enumerate(testloader):\n",
    "            # forward pass: compute predicted outputs by passing inputs to the model\n",
    "        output = net(data)\n",
    "#         print(output.shape)\n",
    "        # calculate the loss\n",
    "        loss = loss_func(output, target)\n",
    "        # update running validation loss\n",
    "        test_loss += loss.item()*data.size(0)\n",
    "        if data.size(0)==batch_size:\n",
    "            test_result_w[batch_size*i:batch_size*(i+1),t]=output.squeeze()\n",
    "        else:\n",
    "            test_result_w[batch_size*i:,t]=output.squeeze()\n",
    "    test_loss_avg = test_loss/len(testloader.sampler)\n",
    "    test_loss_sample+=test_loss_avg\n",
    "    print(test_loss_avg)\n",
    "test_sample_avg_w=test_loss_sample/n_sample\n",
    "print( 'loss: ',test_sample_avg_w)\n"
   ]
  },
  {
   "cell_type": "code",
   "execution_count": 15,
   "metadata": {
    "collapsed": false
   },
   "outputs": [],
   "source": [
    "test_w=test_result_w.mean(1)\n",
    "# plt.figure(figsize=(32, 6))\n",
    "visualization_period_1=1\n",
    "visualization_period_2=68\n",
    "test_result_w_np=test_result_w.detach().cpu().numpy()\n",
    "pred=test_w.cpu().detach().numpy()\n",
    "true_value=testY.cpu().detach().numpy()\n",
    "# plt.title('With Constraint')\n",
    "# plt.plot(pred[-visualization_period_2*96:-visualization_period_1*96],label='pred')\n",
    "# plt.plot(true_value[-visualization_period_2*96:-visualization_period_1*96,0],label='true')\n",
    "# plt.legend()"
   ]
  },
  {
   "cell_type": "code",
   "execution_count": 16,
   "metadata": {
    "collapsed": false
   },
   "outputs": [
    {
     "data": {
      "image/png": "[encoded data removed]",
      "text/plain": [
       "<Figure size 1080x396 with 1 Axes>"
      ]
     },
     "execution_count": 16,
     "metadata": {
      "needs_background": "light"
     },
     "output_type": "execute_result"
    },
    {
     "data": {
      "image/png": "[encoded data removed]",
      "text/plain": [
       "<Figure size 1080x360 with 1 Axes>"
      ]
     },
     "execution_count": 16,
     "metadata": {
      "needs_background": "light"
     },
     "output_type": "execute_result"
    }
   ],
   "source": [
    "\n",
    "test_wo=test_result_wo.mean(1)\n",
    "test_result_wo_np=test_result_wo.detach().cpu().numpy()\n",
    "plt.figure(figsize=(15, 5.5))\n",
    "visualization_period_1=4\n",
    "visualization_period_2=9\n",
    "\n",
    "length=(visualization_period_2-visualization_period_1)*96\n",
    "subset=testX[-visualization_period_2*96:-visualization_period_1*96,4]\n",
    "subset=subset.cpu().numpy()\n",
    "aaa=np.where(subset>0.5)[0]/96\n",
    "derate_plot=np.where(subset>0.5,0.5,0)\n",
    "subset_irra=testX[-visualization_period_2*96:-visualization_period_1*96,3]\n",
    "subset_irra=subset_irra.cpu().numpy()\n",
    "\n",
    "pred=test_wo.cpu().detach().numpy()\n",
    "pred_con=test_w.cpu().detach().numpy()\n",
    "true_value=testY.cpu().detach().numpy()\n",
    "# plt.title('Without Constraint')\n",
    "plt.title('Result comparison (Normalized)',size = 25)\n",
    "\n",
    "plt.plot(pred[-visualization_period_2*96:-visualization_period_1*96],label='BNN',linestyle='dashed',color='blue',alpha=0.8,linewidth=2.2)\n",
    "plt.plot(pred_con[-visualization_period_2*96:-visualization_period_1*96],label='PR-BNN',color='royalblue',alpha=0.9,linewidth=2)\n",
    "\n",
    "plt.plot(true_value[-visualization_period_2*96:-visualization_period_1*96,0],label='Ground True',linewidth=2.2,linestyle=(0,(3,1,1,1,1,1)),color='green',alpha=0.9)\n",
    "plt.fill_between(np.arange(length), np.percentile(test_result_wo_np[-visualization_period_2*96:-visualization_period_1*96,:], 2.5,axis=1),np.percentile(test_result_wo_np[-visualization_period_2*96:-visualization_period_1*96,:], 97.5,axis=1), color='blue', alpha = 0.1, label=\"Uncertainty\")\n",
    "plt.fill_between(np.arange(length), np.percentile(test_result_w_np[-visualization_period_2*96:-visualization_period_1*96,:], 2.5,axis=1),np.percentile(test_result_w_np[-visualization_period_2*96:-visualization_period_1*96,:], 97.5,axis=1), color='blue', alpha = 0.1)\n",
    "plt.scatter(np.array(np.where(subset>0.5)[0]),np.full(len(np.array(np.where(subset>0.5)[0])), 0.5),s=1.8,c='red',label='derate',alpha=0.5)\n",
    "plt.legend(loc='lower right',fontsize=15)\n",
    "plt.xticks(size = 20)\n",
    "plt.yticks(size = 20)\n",
    "plt.savefig('know_results/solar_prediction_comparison.pdf',format='pdf',bbox_inches=\"tight\")\n",
    "\n",
    "plt.show()\n",
    "\n",
    "#plot iradiance\n",
    "\n",
    "plt.figure(figsize=(15, 5))\n",
    "\n",
    "plt.plot(np.array(np.arange(len(derate_plot))),subset_irra,label='Irradiance',linewidth=2.5)\n",
    "plt.plot(true_value[-visualization_period_2*96:-visualization_period_1*96,0],label='True Power Output',linewidth=2.5,linestyle=\"dashed\",color='green')\n",
    "plt.legend(loc='lower right',fontsize=15)\n",
    "plt.ylim((-0.05, 1))\n",
    "plt.xticks(size = 20)\n",
    "plt.yticks(size = 20)\n",
    "plt.savefig('know_results/irra_bnn.pdf',format='pdf',bbox_inches=\"tight\")\n",
    "plt.show()\n"
   ]
  },
  {
   "cell_type": "markdown",
   "metadata": {
    "collapsed": false
   },
   "source": [
    "### evaluations calculation\n",
    "\n"
   ]
  },
  {
   "cell_type": "code",
   "execution_count": 19,
   "metadata": {
    "collapsed": false
   },
   "outputs": [
    {
     "name": "stdout",
     "output_type": "stream",
     "text": [
      "(2040,)\n",
      "(1088,)\n",
      " All time with constraint MSE : 0.001069, all time without constraint MSE: 0.001756\n",
      "all time with constraint NRMSE : 0.032695, all time without constraint NRMSE: 0.041907\n",
      " daytime with constraint MSE : 0.002552, daytime without constraint MSE: 0.004518\n",
      "daytime with constraint NRMSE : 0.050513,daytime without constraint NRMSE: 0.067219\n",
      " peak with constraint MSE : 0.001722, peak without constraint MSE: 0.003731\n",
      "peaktime with constraint NRMSE : 0.041495, peaktime without constraint NRMSE: 0.061084\n"
     ]
    }
   ],
   "source": [
    "daytime_index=np.where((traj_test[:,-2]>0.3900)&(traj_test[:,-2]<0.7100))[0] #9:30 am-5 pm\n",
    "print(daytime_index.shape)\n",
    "peaktime_index=np.where((traj_test[:,-2]>0.42)&(traj_test[:,-2]<0.5800))[0] #10 am-2 pm\n",
    "print(peaktime_index.shape)\n",
    "\n",
    "\n",
    "test_w_day=test_w[daytime_index]\n",
    "test_wo_day=test_wo[daytime_index]\n",
    "\n",
    "test_w_peak=test_w[peaktime_index]\n",
    "test_wo_peak=test_wo[peaktime_index]\n",
    "\n",
    "\n",
    "# test_Y_day=(testY[daytime_index]).repeat(1,n_sample)\n",
    "# test_Y_peak=(testY[peaktime_index]).repeat(1,n_sample)\n",
    "test_Y_day=(testY[daytime_index,0])\n",
    "test_Y_peak=(testY[peaktime_index,0])\n",
    "test_w_result_day=test_result_w[daytime_index,:]\n",
    "test_wo_result_day=test_result_wo[daytime_index,:]\n",
    "\n",
    "test_w_result_peak=test_result_w[peaktime_index,:]\n",
    "test_wo_result_peak=test_result_wo[peaktime_index,:]\n",
    "\n",
    "loss_w_day=loss_func(test_w_day,test_Y_day)\n",
    "loss_wo_day=loss_func(test_wo_day,test_Y_day)\n",
    "loss_w_peak=loss_func(test_w_peak,test_Y_peak)\n",
    "loss_wo_peak=loss_func(test_wo_peak,test_Y_peak)\n",
    "\n",
    "print(\" All time with constraint MSE : %6f, all time without constraint MSE: %6f\" % (test_sample_avg_w,test_sample_avg_wo))\n",
    "print(\"all time with constraint NRMSE : %6f, all time without constraint NRMSE: %6f\" % (np.sqrt(test_sample_avg_w), np.sqrt(test_sample_avg_wo)))\n",
    "print(\" daytime with constraint MSE : %6f, daytime without constraint MSE: %6f\" % (loss_w_day,loss_wo_day))\n",
    "print(\"daytime with constraint NRMSE : %6f,daytime without constraint NRMSE: %6f\" % (torch.sqrt(loss_w_day), torch.sqrt(loss_wo_day)))\n",
    "print(\" peak with constraint MSE : %6f, peak without constraint MSE: %6f\" % (loss_w_peak,loss_wo_peak))\n",
    "print(\"peaktime with constraint NRMSE : %6f, peaktime without constraint NRMSE: %6f\" % (torch.sqrt(loss_w_peak), torch.sqrt(loss_wo_peak)))"
   ]
  },
  {
   "cell_type": "code",
   "execution_count": 22,
   "metadata": {
    "collapsed": false
   },
   "outputs": [
    {
     "name": "stdout",
     "output_type": "stream",
     "text": [
      "with constraint crps: 0.011422481959018847 without constraint crps: 0.01868947739901741\n",
      "with constraint crps day: 0.023291362338250174 without constraint crps day: 0.04477372793315965\n",
      "with constraint crps peak: 0.02116968086704831 without constraint crps peak: 0.045000068600289524\n"
     ]
    }
   ],
   "source": [
    "import hydrostats.ens_metrics as em\n",
    "crps_dictionary_rand_wo = em.ens_crps(true_value[:,0], test_result_wo.cpu().detach().numpy())\n",
    "crps_dictionary_rand_w = em.ens_crps(true_value[:,0], test_result_w.cpu().detach().numpy())\n",
    "crps_w=crps_dictionary_rand_w['crpsMean']\n",
    "crps_wo=crps_dictionary_rand_wo['crpsMean']\n",
    "print('with constraint crps:',crps_w,'without constraint crps:',crps_wo)\n",
    "\n",
    "crps_dictionary_rand_wo_day = em.ens_crps(true_value[:,0][daytime_index], test_result_wo[daytime_index,:].cpu().detach().numpy())\n",
    "crps_dictionary_rand_w_day = em.ens_crps(true_value[:,0][daytime_index], test_result_w[daytime_index,:].cpu().detach().numpy())\n",
    "\n",
    "crps_w_day=crps_dictionary_rand_w_day['crpsMean']\n",
    "crps_wo_day=crps_dictionary_rand_wo_day['crpsMean']\n",
    "print('with constraint crps day:',crps_w_day,'without constraint crps day:',crps_wo_day)\n",
    "\n",
    "crps_dictionary_rand_wo_peak = em.ens_crps(true_value[:,0][peaktime_index], test_result_wo[peaktime_index,:].cpu().detach().numpy())\n",
    "crps_dictionary_rand_w_peak = em.ens_crps(true_value[:,0][peaktime_index], test_result_w[peaktime_index,:].cpu().detach().numpy())\n",
    "\n",
    "crps_w_peak=crps_dictionary_rand_w_peak['crpsMean']\n",
    "crps_wo_peak=crps_dictionary_rand_wo_peak['crpsMean']\n",
    "\n",
    "print('with constraint crps peak:',crps_w_peak,'without constraint crps peak:',crps_wo_peak)"
   ]
  }
 ],
 "metadata": {
  "kernelspec": {
   "display_name": "solar",
   "language": "python",
   "metadata": {
    "debugger": true
   },
   "name": "solar",
   "resource_dir": "/projects/d11319d3-2d8d-4537-8e32-fdb510989bef/.local/share/jupyter/kernels/solar"
  },
  "language_info": {
   "codemirror_mode": {
    "name": "ipython",
    "version": 3
   },
   "file_extension": ".py",
   "mimetype": "text/x-python",
   "name": "python",
   "nbconvert_exporter": "python",
   "pygments_lexer": "ipython3",
   "version": "3.9.7"
  }
 },
 "nbformat": 4,
 "nbformat_minor": 4
}
